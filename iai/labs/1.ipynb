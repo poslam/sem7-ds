{
 "cells": [
  {
   "cell_type": "markdown",
   "id": "41f645dc",
   "metadata": {},
   "source": [
    "data: https://www.kaggle.com/competitions/nyc-taxi-trip-duration"
   ]
  },
  {
   "cell_type": "code",
   "execution_count": null,
   "id": "1fe3e5e1",
   "metadata": {},
   "outputs": [],
   "source": []
  }
 ],
 "metadata": {
  "kernelspec": {
   "display_name": ".venv",
   "language": "python",
   "name": "python3"
  },
  "language_info": {
   "name": "python",
   "version": "3.12.8"
  }
 },
 "nbformat": 4,
 "nbformat_minor": 5
}
