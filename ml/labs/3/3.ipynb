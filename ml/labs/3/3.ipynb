{
 "cells": [
  {
   "cell_type": "code",
   "execution_count": 13,
   "id": "7b5532fa",
   "metadata": {},
   "outputs": [
    {
     "name": "stderr",
     "output_type": "stream",
     "text": [
      "[nltk_data] Downloading package stopwords to\n",
      "[nltk_data]     /Users/poslam/nltk_data...\n",
      "[nltk_data]   Package stopwords is already up-to-date!\n"
     ]
    },
    {
     "data": {
      "text/plain": [
       "True"
      ]
     },
     "execution_count": 13,
     "metadata": {},
     "output_type": "execute_result"
    }
   ],
   "source": [
    "import re\n",
    "from nltk.corpus import stopwords\n",
    "from nltk.stem.snowball import SnowballStemmer\n",
    "import nltk\n",
    "from collections import Counter\n",
    "import pymorphy3\n",
    "\n",
    "nltk.download(\"stopwords\")"
   ]
  },
  {
   "cell_type": "code",
   "execution_count": 14,
   "id": "32afbb74",
   "metadata": {},
   "outputs": [
    {
     "name": "stdout",
     "output_type": "stream",
     "text": [
      "Counter({'это': 1, 'простой': 1, 'пример': 1, 'показывать': 1, 'как': 1, 'очистить': 1, 'текст': 1, 'от': 1, 'лишний': 1, 'слово': 1, 'и': 1, 'символ': 1})\n"
     ]
    }
   ],
   "source": [
    "text = \"😊 Это простой пример, показывающий, как очистить текст от лишних слов и символов!!!\"\n",
    "\n",
    "text = text.lower()\n",
    "\n",
    "text = re.sub(r\"[^\\w\\s]\", \"\", text)\n",
    "text = re.sub(r\"\\d+\", \"\", text)\n",
    "text = re.sub(r\"\\s+\", \" \", text).strip()\n",
    "\n",
    "tokens = text.split()\n",
    "\n",
    "stop_words = set(stopwords.words(\"russian\"))\n",
    "tokens = [word for word in tokens if word not in stop_words]\n",
    "\n",
    "stemmer = SnowballStemmer(\"russian\")\n",
    "tokens = [stemmer.stem(word) for word in tokens]\n",
    "\n",
    "clean_text = \" \".join(tokens)\n",
    "\n",
    "morph = pymorphy3.MorphAnalyzer()\n",
    "\n",
    "print(Counter([morph.parse(i)[0].normal_form for i in text.split()]))"
   ]
  }
 ],
 "metadata": {
  "kernelspec": {
   "display_name": ".venv",
   "language": "python",
   "name": "python3"
  },
  "language_info": {
   "codemirror_mode": {
    "name": "ipython",
    "version": 3
   },
   "file_extension": ".py",
   "mimetype": "text/x-python",
   "name": "python",
   "nbconvert_exporter": "python",
   "pygments_lexer": "ipython3",
   "version": "3.13.7"
  }
 },
 "nbformat": 4,
 "nbformat_minor": 5
}
