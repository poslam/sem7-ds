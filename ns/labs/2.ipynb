{
 "cells": [
  {
   "cell_type": "markdown",
   "id": "cb245b73",
   "metadata": {},
   "source": [
    "1. Реализовать функции активации из презентации (https://docs.google.com/presentation/d/1hmt_GIzgAo5Wfo6z2CP2Iu5nyaDEHoIsJF0UwysFM7s/edit?usp=sharing)\n",
    "2. Изучить, как изменяется поведение однослойного перцептрона при изменении функции активации\n",
    "3. Ответить на вопросы в конце ноутбука"
   ]
  },
  {
   "cell_type": "markdown",
   "id": "2f013bfc",
   "metadata": {},
   "source": [
    "## 0. импорты"
   ]
  },
  {
   "cell_type": "code",
   "execution_count": null,
   "id": "8de6b3d9",
   "metadata": {},
   "outputs": [],
   "source": [
    "import numpy as np"
   ]
  },
  {
   "cell_type": "markdown",
   "id": "191fcb84",
   "metadata": {},
   "source": [
    "## 1. реализация функции активации"
   ]
  },
  {
   "cell_type": "code",
   "execution_count": null,
   "id": "5c344ee5",
   "metadata": {},
   "outputs": [],
   "source": []
  },
  {
   "cell_type": "markdown",
   "id": "038f269f",
   "metadata": {},
   "source": [
    "## 2. поведение однослойного перцептрона при изменении функции активации"
   ]
  },
  {
   "cell_type": "code",
   "execution_count": null,
   "id": "172d247f",
   "metadata": {},
   "outputs": [],
   "source": []
  },
  {
   "cell_type": "markdown",
   "id": "6ee7e393",
   "metadata": {},
   "source": [
    "## 3. ответы на вопросы"
   ]
  },
  {
   "cell_type": "markdown",
   "id": "764baf53",
   "metadata": {},
   "source": [
    "1. Что делает функция активации в искусственном нейроне2. Чем отличается искусственный нейрон от однослойного перцептрона?\n",
    "3. Какое правило используется для обучения перцептрона?\n",
    "4. Почему однослойный перцептрон не может решить задачу XOR?\n",
    "5. Что произойдет, если изменить функцию активации с сигмоиды на ReLU?\n"
   ]
  }
 ],
 "metadata": {
  "kernelspec": {
   "display_name": ".venv (3.12.8)",
   "language": "python",
   "name": "python3"
  },
  "language_info": {
   "name": "python",
   "version": "3.12.8"
  }
 },
 "nbformat": 4,
 "nbformat_minor": 5
}
